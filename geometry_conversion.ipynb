{
 "cells": [
  {
   "cell_type": "markdown",
   "metadata": {},
   "source": [
    "# geometry_conversion.ipynb\n",
    "\n",
    "Supplements the work in `craigslist_regression.ipynb`. \n",
    "\n",
    "This notebook uses `geopandas` to calculate the neighborhood for each apartment listing (uses geometry from the `.geojson` of NYC neighborhoods)."
   ]
  },
  {
   "cell_type": "code",
   "execution_count": 1,
   "metadata": {},
   "outputs": [],
   "source": [
    "import pandas as pd\n",
    "import numpy as np\n",
    "import matplotlib.pyplot as plt"
   ]
  },
  {
   "cell_type": "code",
   "execution_count": 2,
   "metadata": {},
   "outputs": [],
   "source": [
    "from shapely.geometry import Point, Polygon\n",
    "import geopandas"
   ]
  },
  {
   "cell_type": "code",
   "execution_count": 3,
   "metadata": {},
   "outputs": [
    {
     "data": {
      "text/html": [
       "<div>\n",
       "<style scoped>\n",
       "    .dataframe tbody tr th:only-of-type {\n",
       "        vertical-align: middle;\n",
       "    }\n",
       "\n",
       "    .dataframe tbody tr th {\n",
       "        vertical-align: top;\n",
       "    }\n",
       "\n",
       "    .dataframe thead th {\n",
       "        text-align: right;\n",
       "    }\n",
       "</style>\n",
       "<table border=\"1\" class=\"dataframe\">\n",
       "  <thead>\n",
       "    <tr style=\"text-align: right;\">\n",
       "      <th></th>\n",
       "      <th>post_id</th>\n",
       "      <th>lat</th>\n",
       "      <th>lon</th>\n",
       "    </tr>\n",
       "  </thead>\n",
       "  <tbody>\n",
       "    <tr>\n",
       "      <th>1</th>\n",
       "      <td>7061095044</td>\n",
       "      <td>40.711900</td>\n",
       "      <td>-73.794400</td>\n",
       "    </tr>\n",
       "    <tr>\n",
       "      <th>2</th>\n",
       "      <td>7061094612</td>\n",
       "      <td>40.711900</td>\n",
       "      <td>-73.794400</td>\n",
       "    </tr>\n",
       "    <tr>\n",
       "      <th>3</th>\n",
       "      <td>7061094200</td>\n",
       "      <td>40.711900</td>\n",
       "      <td>-73.794400</td>\n",
       "    </tr>\n",
       "    <tr>\n",
       "      <th>4</th>\n",
       "      <td>7061093913</td>\n",
       "      <td>40.702900</td>\n",
       "      <td>-73.811100</td>\n",
       "    </tr>\n",
       "    <tr>\n",
       "      <th>5</th>\n",
       "      <td>7061093626</td>\n",
       "      <td>40.743201</td>\n",
       "      <td>-73.920591</td>\n",
       "    </tr>\n",
       "  </tbody>\n",
       "</table>\n",
       "</div>"
      ],
      "text/plain": [
       "      post_id        lat        lon\n",
       "1  7061095044  40.711900 -73.794400\n",
       "2  7061094612  40.711900 -73.794400\n",
       "3  7061094200  40.711900 -73.794400\n",
       "4  7061093913  40.702900 -73.811100\n",
       "5  7061093626  40.743201 -73.920591"
      ]
     },
     "execution_count": 3,
     "metadata": {},
     "output_type": "execute_result"
    }
   ],
   "source": [
    "neighborhood_df = pd.read_pickle(\"./pickles/neighborhood_df.pkl\")\n",
    "neighborhood_df.head()"
   ]
  },
  {
   "cell_type": "code",
   "execution_count": 4,
   "metadata": {},
   "outputs": [
    {
     "data": {
      "text/html": [
       "<div>\n",
       "<style scoped>\n",
       "    .dataframe tbody tr th:only-of-type {\n",
       "        vertical-align: middle;\n",
       "    }\n",
       "\n",
       "    .dataframe tbody tr th {\n",
       "        vertical-align: top;\n",
       "    }\n",
       "\n",
       "    .dataframe thead th {\n",
       "        text-align: right;\n",
       "    }\n",
       "</style>\n",
       "<table border=\"1\" class=\"dataframe\">\n",
       "  <thead>\n",
       "    <tr style=\"text-align: right;\">\n",
       "      <th></th>\n",
       "      <th>geometry</th>\n",
       "    </tr>\n",
       "    <tr>\n",
       "      <th>post_id</th>\n",
       "      <th></th>\n",
       "    </tr>\n",
       "  </thead>\n",
       "  <tbody>\n",
       "    <tr>\n",
       "      <th>7061095044</th>\n",
       "      <td>POINT (-73.79440 40.71190)</td>\n",
       "    </tr>\n",
       "    <tr>\n",
       "      <th>7061094612</th>\n",
       "      <td>POINT (-73.79440 40.71190)</td>\n",
       "    </tr>\n",
       "    <tr>\n",
       "      <th>7061094200</th>\n",
       "      <td>POINT (-73.79440 40.71190)</td>\n",
       "    </tr>\n",
       "    <tr>\n",
       "      <th>7061093913</th>\n",
       "      <td>POINT (-73.81110 40.70290)</td>\n",
       "    </tr>\n",
       "    <tr>\n",
       "      <th>7061093626</th>\n",
       "      <td>POINT (-73.92059 40.74320)</td>\n",
       "    </tr>\n",
       "  </tbody>\n",
       "</table>\n",
       "</div>"
      ],
      "text/plain": [
       "                              geometry\n",
       "post_id                               \n",
       "7061095044  POINT (-73.79440 40.71190)\n",
       "7061094612  POINT (-73.79440 40.71190)\n",
       "7061094200  POINT (-73.79440 40.71190)\n",
       "7061093913  POINT (-73.81110 40.70290)\n",
       "7061093626  POINT (-73.92059 40.74320)"
      ]
     },
     "execution_count": 4,
     "metadata": {},
     "output_type": "execute_result"
    }
   ],
   "source": [
    "_pnts = [Point(neighborhood_df.lon[i],neighborhood_df.lat[i]) for i in neighborhood_df.index]\n",
    "pnts = geopandas.GeoDataFrame(geometry=_pnts, index=neighborhood_df.post_id)\n",
    "pnts.head()"
   ]
  },
  {
   "cell_type": "code",
   "execution_count": 5,
   "metadata": {},
   "outputs": [
    {
     "data": {
      "text/html": [
       "<div>\n",
       "<style scoped>\n",
       "    .dataframe tbody tr th:only-of-type {\n",
       "        vertical-align: middle;\n",
       "    }\n",
       "\n",
       "    .dataframe tbody tr th {\n",
       "        vertical-align: top;\n",
       "    }\n",
       "\n",
       "    .dataframe thead th {\n",
       "        text-align: right;\n",
       "    }\n",
       "</style>\n",
       "<table border=\"1\" class=\"dataframe\">\n",
       "  <thead>\n",
       "    <tr style=\"text-align: right;\">\n",
       "      <th></th>\n",
       "      <th>ntacode</th>\n",
       "      <th>shape_area</th>\n",
       "      <th>county_fips</th>\n",
       "      <th>ntaname</th>\n",
       "      <th>shape_leng</th>\n",
       "      <th>boro_name</th>\n",
       "      <th>boro_code</th>\n",
       "      <th>geometry</th>\n",
       "    </tr>\n",
       "  </thead>\n",
       "  <tbody>\n",
       "    <tr>\n",
       "      <th>0</th>\n",
       "      <td>BK88</td>\n",
       "      <td>54005019.048</td>\n",
       "      <td>047</td>\n",
       "      <td>Borough Park</td>\n",
       "      <td>39247.2278309</td>\n",
       "      <td>Brooklyn</td>\n",
       "      <td>3</td>\n",
       "      <td>MULTIPOLYGON (((-73.97605 40.63128, -73.97717 ...</td>\n",
       "    </tr>\n",
       "    <tr>\n",
       "      <th>1</th>\n",
       "      <td>QN51</td>\n",
       "      <td>52488277.846</td>\n",
       "      <td>081</td>\n",
       "      <td>Murray Hill</td>\n",
       "      <td>33266.9047967</td>\n",
       "      <td>Queens</td>\n",
       "      <td>4</td>\n",
       "      <td>MULTIPOLYGON (((-73.80379 40.77561, -73.80099 ...</td>\n",
       "    </tr>\n",
       "    <tr>\n",
       "      <th>2</th>\n",
       "      <td>QN27</td>\n",
       "      <td>19726845.6282</td>\n",
       "      <td>081</td>\n",
       "      <td>East Elmhurst</td>\n",
       "      <td>19816.7120736</td>\n",
       "      <td>Queens</td>\n",
       "      <td>4</td>\n",
       "      <td>MULTIPOLYGON (((-73.86110 40.76366, -73.85993 ...</td>\n",
       "    </tr>\n",
       "    <tr>\n",
       "      <th>3</th>\n",
       "      <td>QN07</td>\n",
       "      <td>22887772.8652</td>\n",
       "      <td>081</td>\n",
       "      <td>Hollis</td>\n",
       "      <td>20976.3355739</td>\n",
       "      <td>Queens</td>\n",
       "      <td>4</td>\n",
       "      <td>MULTIPOLYGON (((-73.75726 40.71814, -73.75589 ...</td>\n",
       "    </tr>\n",
       "    <tr>\n",
       "      <th>4</th>\n",
       "      <td>MN06</td>\n",
       "      <td>10647077.5264</td>\n",
       "      <td>061</td>\n",
       "      <td>Manhattanville</td>\n",
       "      <td>17040.6854129</td>\n",
       "      <td>Manhattan</td>\n",
       "      <td>1</td>\n",
       "      <td>MULTIPOLYGON (((-73.94608 40.82126, -73.94640 ...</td>\n",
       "    </tr>\n",
       "  </tbody>\n",
       "</table>\n",
       "</div>"
      ],
      "text/plain": [
       "  ntacode     shape_area county_fips         ntaname     shape_leng  \\\n",
       "0    BK88   54005019.048         047    Borough Park  39247.2278309   \n",
       "1    QN51   52488277.846         081     Murray Hill  33266.9047967   \n",
       "2    QN27  19726845.6282         081   East Elmhurst  19816.7120736   \n",
       "3    QN07  22887772.8652         081          Hollis  20976.3355739   \n",
       "4    MN06  10647077.5264         061  Manhattanville  17040.6854129   \n",
       "\n",
       "   boro_name boro_code                                           geometry  \n",
       "0   Brooklyn         3  MULTIPOLYGON (((-73.97605 40.63128, -73.97717 ...  \n",
       "1     Queens         4  MULTIPOLYGON (((-73.80379 40.77561, -73.80099 ...  \n",
       "2     Queens         4  MULTIPOLYGON (((-73.86110 40.76366, -73.85993 ...  \n",
       "3     Queens         4  MULTIPOLYGON (((-73.75726 40.71814, -73.75589 ...  \n",
       "4  Manhattan         1  MULTIPOLYGON (((-73.94608 40.82126, -73.94640 ...  "
      ]
     },
     "execution_count": 5,
     "metadata": {},
     "output_type": "execute_result"
    }
   ],
   "source": [
    "neighborhood_names = geopandas.read_file(\"./data/Neighborhood Tabulation Areas (NTA).geojson\")\n",
    "neighborhood_names.head()"
   ]
  },
  {
   "cell_type": "code",
   "execution_count": 6,
   "metadata": {},
   "outputs": [
    {
     "data": {
      "text/html": [
       "<div>\n",
       "<style scoped>\n",
       "    .dataframe tbody tr th:only-of-type {\n",
       "        vertical-align: middle;\n",
       "    }\n",
       "\n",
       "    .dataframe tbody tr th {\n",
       "        vertical-align: top;\n",
       "    }\n",
       "\n",
       "    .dataframe thead th {\n",
       "        text-align: right;\n",
       "    }\n",
       "</style>\n",
       "<table border=\"1\" class=\"dataframe\">\n",
       "  <thead>\n",
       "    <tr style=\"text-align: right;\">\n",
       "      <th></th>\n",
       "      <th>geometry</th>\n",
       "    </tr>\n",
       "    <tr>\n",
       "      <th>ntaname</th>\n",
       "      <th></th>\n",
       "    </tr>\n",
       "  </thead>\n",
       "  <tbody>\n",
       "    <tr>\n",
       "      <th>Borough Park</th>\n",
       "      <td>MULTIPOLYGON (((-73.97605 40.63128, -73.97717 ...</td>\n",
       "    </tr>\n",
       "    <tr>\n",
       "      <th>Murray Hill</th>\n",
       "      <td>MULTIPOLYGON (((-73.80379 40.77561, -73.80099 ...</td>\n",
       "    </tr>\n",
       "    <tr>\n",
       "      <th>East Elmhurst</th>\n",
       "      <td>MULTIPOLYGON (((-73.86110 40.76366, -73.85993 ...</td>\n",
       "    </tr>\n",
       "    <tr>\n",
       "      <th>Hollis</th>\n",
       "      <td>MULTIPOLYGON (((-73.75726 40.71814, -73.75589 ...</td>\n",
       "    </tr>\n",
       "    <tr>\n",
       "      <th>Manhattanville</th>\n",
       "      <td>MULTIPOLYGON (((-73.94608 40.82126, -73.94640 ...</td>\n",
       "    </tr>\n",
       "  </tbody>\n",
       "</table>\n",
       "</div>"
      ],
      "text/plain": [
       "                                                         geometry\n",
       "ntaname                                                          \n",
       "Borough Park    MULTIPOLYGON (((-73.97605 40.63128, -73.97717 ...\n",
       "Murray Hill     MULTIPOLYGON (((-73.80379 40.77561, -73.80099 ...\n",
       "East Elmhurst   MULTIPOLYGON (((-73.86110 40.76366, -73.85993 ...\n",
       "Hollis          MULTIPOLYGON (((-73.75726 40.71814, -73.75589 ...\n",
       "Manhattanville  MULTIPOLYGON (((-73.94608 40.82126, -73.94640 ..."
      ]
     },
     "execution_count": 6,
     "metadata": {},
     "output_type": "execute_result"
    }
   ],
   "source": [
    "polys = neighborhood_names[['ntaname','geometry']].set_index('ntaname')\n",
    "polys.head()"
   ]
  },
  {
   "cell_type": "code",
   "execution_count": 7,
   "metadata": {},
   "outputs": [
    {
     "data": {
      "text/html": [
       "<div>\n",
       "<style scoped>\n",
       "    .dataframe tbody tr th:only-of-type {\n",
       "        vertical-align: middle;\n",
       "    }\n",
       "\n",
       "    .dataframe tbody tr th {\n",
       "        vertical-align: top;\n",
       "    }\n",
       "\n",
       "    .dataframe thead th {\n",
       "        text-align: right;\n",
       "    }\n",
       "</style>\n",
       "<table border=\"1\" class=\"dataframe\">\n",
       "  <thead>\n",
       "    <tr style=\"text-align: right;\">\n",
       "      <th></th>\n",
       "      <th>geometry</th>\n",
       "      <th>borough</th>\n",
       "    </tr>\n",
       "    <tr>\n",
       "      <th>post_id</th>\n",
       "      <th></th>\n",
       "      <th></th>\n",
       "    </tr>\n",
       "  </thead>\n",
       "  <tbody>\n",
       "    <tr>\n",
       "      <th>7061095044</th>\n",
       "      <td>POINT (-73.79440 40.71190)</td>\n",
       "      <td></td>\n",
       "    </tr>\n",
       "    <tr>\n",
       "      <th>7061094612</th>\n",
       "      <td>POINT (-73.79440 40.71190)</td>\n",
       "      <td></td>\n",
       "    </tr>\n",
       "    <tr>\n",
       "      <th>7061094200</th>\n",
       "      <td>POINT (-73.79440 40.71190)</td>\n",
       "      <td></td>\n",
       "    </tr>\n",
       "    <tr>\n",
       "      <th>7061093913</th>\n",
       "      <td>POINT (-73.81110 40.70290)</td>\n",
       "      <td></td>\n",
       "    </tr>\n",
       "    <tr>\n",
       "      <th>7061093626</th>\n",
       "      <td>POINT (-73.92059 40.74320)</td>\n",
       "      <td></td>\n",
       "    </tr>\n",
       "  </tbody>\n",
       "</table>\n",
       "</div>"
      ],
      "text/plain": [
       "                              geometry borough\n",
       "post_id                                       \n",
       "7061095044  POINT (-73.79440 40.71190)        \n",
       "7061094612  POINT (-73.79440 40.71190)        \n",
       "7061094200  POINT (-73.79440 40.71190)        \n",
       "7061093913  POINT (-73.81110 40.70290)        \n",
       "7061093626  POINT (-73.92059 40.74320)        "
      ]
     },
     "execution_count": 7,
     "metadata": {},
     "output_type": "execute_result"
    }
   ],
   "source": [
    "pnts['borough'] = \"\"\n",
    "pnts.head()"
   ]
  },
  {
   "cell_type": "code",
   "execution_count": 8,
   "metadata": {},
   "outputs": [
    {
     "data": {
      "text/plain": [
       "(<shapely.geometry.point.Point at 0x11d166ac8>,\n",
       " <shapely.geometry.multipolygon.MultiPolygon at 0x11d1cafd0>)"
      ]
     },
     "execution_count": 8,
     "metadata": {},
     "output_type": "execute_result"
    }
   ],
   "source": [
    "p0 = pnts.iloc[0,0]\n",
    "g0 = polys.iloc[0,0]\n",
    "p0,g0"
   ]
  },
  {
   "cell_type": "code",
   "execution_count": 9,
   "metadata": {},
   "outputs": [],
   "source": [
    "def find_borough(point):\n",
    "    for b, row in polys.iterrows():\n",
    "        g = row.geometry\n",
    "        if point.within(g):\n",
    "            return b\n",
    "    return None"
   ]
  },
  {
   "cell_type": "code",
   "execution_count": 10,
   "metadata": {},
   "outputs": [
    {
     "data": {
      "text/html": [
       "<div>\n",
       "<style scoped>\n",
       "    .dataframe tbody tr th:only-of-type {\n",
       "        vertical-align: middle;\n",
       "    }\n",
       "\n",
       "    .dataframe tbody tr th {\n",
       "        vertical-align: top;\n",
       "    }\n",
       "\n",
       "    .dataframe thead th {\n",
       "        text-align: right;\n",
       "    }\n",
       "</style>\n",
       "<table border=\"1\" class=\"dataframe\">\n",
       "  <thead>\n",
       "    <tr style=\"text-align: right;\">\n",
       "      <th></th>\n",
       "      <th>geometry</th>\n",
       "      <th>borough</th>\n",
       "    </tr>\n",
       "    <tr>\n",
       "      <th>post_id</th>\n",
       "      <th></th>\n",
       "      <th></th>\n",
       "    </tr>\n",
       "  </thead>\n",
       "  <tbody>\n",
       "    <tr>\n",
       "      <th>7061095044</th>\n",
       "      <td>POINT (-73.79440 40.71190)</td>\n",
       "      <td>Briarwood-Jamaica Hills</td>\n",
       "    </tr>\n",
       "    <tr>\n",
       "      <th>7061094612</th>\n",
       "      <td>POINT (-73.79440 40.71190)</td>\n",
       "      <td>Briarwood-Jamaica Hills</td>\n",
       "    </tr>\n",
       "    <tr>\n",
       "      <th>7061094200</th>\n",
       "      <td>POINT (-73.79440 40.71190)</td>\n",
       "      <td>Briarwood-Jamaica Hills</td>\n",
       "    </tr>\n",
       "    <tr>\n",
       "      <th>7061093913</th>\n",
       "      <td>POINT (-73.81110 40.70290)</td>\n",
       "      <td>Jamaica</td>\n",
       "    </tr>\n",
       "    <tr>\n",
       "      <th>7061093626</th>\n",
       "      <td>POINT (-73.92059 40.74320)</td>\n",
       "      <td>Hunters Point-Sunnyside-West Maspeth</td>\n",
       "    </tr>\n",
       "  </tbody>\n",
       "</table>\n",
       "</div>"
      ],
      "text/plain": [
       "                              geometry                               borough\n",
       "post_id                                                                     \n",
       "7061095044  POINT (-73.79440 40.71190)               Briarwood-Jamaica Hills\n",
       "7061094612  POINT (-73.79440 40.71190)               Briarwood-Jamaica Hills\n",
       "7061094200  POINT (-73.79440 40.71190)               Briarwood-Jamaica Hills\n",
       "7061093913  POINT (-73.81110 40.70290)                               Jamaica\n",
       "7061093626  POINT (-73.92059 40.74320)  Hunters Point-Sunnyside-West Maspeth"
      ]
     },
     "execution_count": 10,
     "metadata": {},
     "output_type": "execute_result"
    }
   ],
   "source": [
    "for ind, row in pnts.iterrows():\n",
    "    p = row.geometry\n",
    "    b = find_borough(p)\n",
    "    pnts.loc[ind,'borough'] = b\n",
    "\n",
    "pnts.head()"
   ]
  },
  {
   "cell_type": "code",
   "execution_count": 11,
   "metadata": {},
   "outputs": [
    {
     "name": "stdout",
     "output_type": "stream",
     "text": [
      "<class 'geopandas.geodataframe.GeoDataFrame'>\n",
      "Index: 1890 entries, 7061095044 to 7044113902\n",
      "Data columns (total 2 columns):\n",
      "geometry    1890 non-null geometry\n",
      "borough     1662 non-null object\n",
      "dtypes: geometry(1), object(1)\n",
      "memory usage: 124.3+ KB\n"
     ]
    }
   ],
   "source": [
    "pnts.info()"
   ]
  },
  {
   "cell_type": "code",
   "execution_count": 12,
   "metadata": {},
   "outputs": [
    {
     "data": {
      "text/plain": [
       "<matplotlib.axes._subplots.AxesSubplot at 0x11d229128>"
      ]
     },
     "execution_count": 12,
     "metadata": {},
     "output_type": "execute_result"
    },
    {
     "data": {
      "image/png": "[encoded data removed]",
      "text/plain": [
       "<Figure size 720x720 with 1 Axes>"
      ]
     },
     "metadata": {
      "needs_background": "light"
     },
     "output_type": "display_data"
    }
   ],
   "source": [
    "f, ax = plt.subplots(figsize=(10,10))\n",
    "polys.plot(ax=ax, color='green')\n",
    "pnts[pnts.borough.notna()].plot(ax=ax, marker='o', color='blue', markersize=20)\n",
    "pnts[pnts.borough.isnull()].plot(ax=ax, marker='o', color='red', markersize=20)"
   ]
  },
  {
   "cell_type": "code",
   "execution_count": 13,
   "metadata": {},
   "outputs": [],
   "source": [
    "pnts.borough = pnts.borough.fillna(\"Other\")\n",
    "\n",
    "# OOOPS! Those aren't boroughs those are neighborhoods\n",
    "pnts.rename(columns={'borough':'neighborhood'},inplace=True)"
   ]
  },
  {
   "cell_type": "markdown",
   "metadata": {},
   "source": [
    "***"
   ]
  },
  {
   "cell_type": "code",
   "execution_count": 14,
   "metadata": {},
   "outputs": [
    {
     "data": {
      "text/html": [
       "<div>\n",
       "<style scoped>\n",
       "    .dataframe tbody tr th:only-of-type {\n",
       "        vertical-align: middle;\n",
       "    }\n",
       "\n",
       "    .dataframe tbody tr th {\n",
       "        vertical-align: top;\n",
       "    }\n",
       "\n",
       "    .dataframe thead th {\n",
       "        text-align: right;\n",
       "    }\n",
       "</style>\n",
       "<table border=\"1\" class=\"dataframe\">\n",
       "  <thead>\n",
       "    <tr style=\"text-align: right;\">\n",
       "      <th></th>\n",
       "      <th>post_id</th>\n",
       "      <th>lat</th>\n",
       "      <th>lon</th>\n",
       "    </tr>\n",
       "  </thead>\n",
       "  <tbody>\n",
       "    <tr>\n",
       "      <th>1</th>\n",
       "      <td>7061095044</td>\n",
       "      <td>40.711900</td>\n",
       "      <td>-73.794400</td>\n",
       "    </tr>\n",
       "    <tr>\n",
       "      <th>2</th>\n",
       "      <td>7061094612</td>\n",
       "      <td>40.711900</td>\n",
       "      <td>-73.794400</td>\n",
       "    </tr>\n",
       "    <tr>\n",
       "      <th>3</th>\n",
       "      <td>7061094200</td>\n",
       "      <td>40.711900</td>\n",
       "      <td>-73.794400</td>\n",
       "    </tr>\n",
       "    <tr>\n",
       "      <th>4</th>\n",
       "      <td>7061093913</td>\n",
       "      <td>40.702900</td>\n",
       "      <td>-73.811100</td>\n",
       "    </tr>\n",
       "    <tr>\n",
       "      <th>5</th>\n",
       "      <td>7061093626</td>\n",
       "      <td>40.743201</td>\n",
       "      <td>-73.920591</td>\n",
       "    </tr>\n",
       "  </tbody>\n",
       "</table>\n",
       "</div>"
      ],
      "text/plain": [
       "      post_id        lat        lon\n",
       "1  7061095044  40.711900 -73.794400\n",
       "2  7061094612  40.711900 -73.794400\n",
       "3  7061094200  40.711900 -73.794400\n",
       "4  7061093913  40.702900 -73.811100\n",
       "5  7061093626  40.743201 -73.920591"
      ]
     },
     "execution_count": 14,
     "metadata": {},
     "output_type": "execute_result"
    }
   ],
   "source": [
    "neighborhood_df.head()"
   ]
  },
  {
   "cell_type": "code",
   "execution_count": 15,
   "metadata": {},
   "outputs": [
    {
     "name": "stdout",
     "output_type": "stream",
     "text": [
      "<class 'pandas.core.frame.DataFrame'>\n",
      "Int64Index: 1890 entries, 1 to 9706\n",
      "Data columns (total 3 columns):\n",
      "post_id    1890 non-null object\n",
      "lat        1890 non-null float64\n",
      "lon        1890 non-null float64\n",
      "dtypes: float64(2), object(1)\n",
      "memory usage: 139.1+ KB\n"
     ]
    }
   ],
   "source": [
    "neighborhood_df.info()"
   ]
  },
  {
   "cell_type": "code",
   "execution_count": 16,
   "metadata": {},
   "outputs": [
    {
     "data": {
      "text/html": [
       "<div>\n",
       "<style scoped>\n",
       "    .dataframe tbody tr th:only-of-type {\n",
       "        vertical-align: middle;\n",
       "    }\n",
       "\n",
       "    .dataframe tbody tr th {\n",
       "        vertical-align: top;\n",
       "    }\n",
       "\n",
       "    .dataframe thead th {\n",
       "        text-align: right;\n",
       "    }\n",
       "</style>\n",
       "<table border=\"1\" class=\"dataframe\">\n",
       "  <thead>\n",
       "    <tr style=\"text-align: right;\">\n",
       "      <th></th>\n",
       "      <th>geometry</th>\n",
       "      <th>neighborhood</th>\n",
       "    </tr>\n",
       "    <tr>\n",
       "      <th>post_id</th>\n",
       "      <th></th>\n",
       "      <th></th>\n",
       "    </tr>\n",
       "  </thead>\n",
       "  <tbody>\n",
       "    <tr>\n",
       "      <th>7061095044</th>\n",
       "      <td>POINT (-73.79440 40.71190)</td>\n",
       "      <td>Briarwood-Jamaica Hills</td>\n",
       "    </tr>\n",
       "    <tr>\n",
       "      <th>7061094612</th>\n",
       "      <td>POINT (-73.79440 40.71190)</td>\n",
       "      <td>Briarwood-Jamaica Hills</td>\n",
       "    </tr>\n",
       "    <tr>\n",
       "      <th>7061094200</th>\n",
       "      <td>POINT (-73.79440 40.71190)</td>\n",
       "      <td>Briarwood-Jamaica Hills</td>\n",
       "    </tr>\n",
       "    <tr>\n",
       "      <th>7061093913</th>\n",
       "      <td>POINT (-73.81110 40.70290)</td>\n",
       "      <td>Jamaica</td>\n",
       "    </tr>\n",
       "    <tr>\n",
       "      <th>7061093626</th>\n",
       "      <td>POINT (-73.92059 40.74320)</td>\n",
       "      <td>Hunters Point-Sunnyside-West Maspeth</td>\n",
       "    </tr>\n",
       "  </tbody>\n",
       "</table>\n",
       "</div>"
      ],
      "text/plain": [
       "                              geometry                          neighborhood\n",
       "post_id                                                                     \n",
       "7061095044  POINT (-73.79440 40.71190)               Briarwood-Jamaica Hills\n",
       "7061094612  POINT (-73.79440 40.71190)               Briarwood-Jamaica Hills\n",
       "7061094200  POINT (-73.79440 40.71190)               Briarwood-Jamaica Hills\n",
       "7061093913  POINT (-73.81110 40.70290)                               Jamaica\n",
       "7061093626  POINT (-73.92059 40.74320)  Hunters Point-Sunnyside-West Maspeth"
      ]
     },
     "execution_count": 16,
     "metadata": {},
     "output_type": "execute_result"
    }
   ],
   "source": [
    "pnts.head()"
   ]
  },
  {
   "cell_type": "code",
   "execution_count": 17,
   "metadata": {},
   "outputs": [
    {
     "data": {
      "text/html": [
       "<div>\n",
       "<style scoped>\n",
       "    .dataframe tbody tr th:only-of-type {\n",
       "        vertical-align: middle;\n",
       "    }\n",
       "\n",
       "    .dataframe tbody tr th {\n",
       "        vertical-align: top;\n",
       "    }\n",
       "\n",
       "    .dataframe thead th {\n",
       "        text-align: right;\n",
       "    }\n",
       "</style>\n",
       "<table border=\"1\" class=\"dataframe\">\n",
       "  <thead>\n",
       "    <tr style=\"text-align: right;\">\n",
       "      <th></th>\n",
       "      <th>neighborhood</th>\n",
       "    </tr>\n",
       "    <tr>\n",
       "      <th>post_id</th>\n",
       "      <th></th>\n",
       "    </tr>\n",
       "  </thead>\n",
       "  <tbody>\n",
       "    <tr>\n",
       "      <th>7061095044</th>\n",
       "      <td>Briarwood-Jamaica Hills</td>\n",
       "    </tr>\n",
       "    <tr>\n",
       "      <th>7061094612</th>\n",
       "      <td>Briarwood-Jamaica Hills</td>\n",
       "    </tr>\n",
       "    <tr>\n",
       "      <th>7061094200</th>\n",
       "      <td>Briarwood-Jamaica Hills</td>\n",
       "    </tr>\n",
       "    <tr>\n",
       "      <th>7061093913</th>\n",
       "      <td>Jamaica</td>\n",
       "    </tr>\n",
       "    <tr>\n",
       "      <th>7061093626</th>\n",
       "      <td>Hunters Point-Sunnyside-West Maspeth</td>\n",
       "    </tr>\n",
       "  </tbody>\n",
       "</table>\n",
       "</div>"
      ],
      "text/plain": [
       "                                    neighborhood\n",
       "post_id                                         \n",
       "7061095044               Briarwood-Jamaica Hills\n",
       "7061094612               Briarwood-Jamaica Hills\n",
       "7061094200               Briarwood-Jamaica Hills\n",
       "7061093913                               Jamaica\n",
       "7061093626  Hunters Point-Sunnyside-West Maspeth"
      ]
     },
     "execution_count": 17,
     "metadata": {},
     "output_type": "execute_result"
    }
   ],
   "source": [
    "boroughs = pd.DataFrame(pnts).drop(columns='geometry')\n",
    "boroughs.head()"
   ]
  },
  {
   "cell_type": "code",
   "execution_count": 18,
   "metadata": {},
   "outputs": [
    {
     "name": "stdout",
     "output_type": "stream",
     "text": [
      "<class 'pandas.core.frame.DataFrame'>\n",
      "Index: 1890 entries, 7061095044 to 7044113902\n",
      "Data columns (total 1 columns):\n",
      "neighborhood    1890 non-null object\n",
      "dtypes: object(1)\n",
      "memory usage: 29.5+ KB\n"
     ]
    }
   ],
   "source": [
    "boroughs.info()"
   ]
  },
  {
   "cell_type": "code",
   "execution_count": 19,
   "metadata": {},
   "outputs": [
    {
     "data": {
      "text/html": [
       "<div>\n",
       "<style scoped>\n",
       "    .dataframe tbody tr th:only-of-type {\n",
       "        vertical-align: middle;\n",
       "    }\n",
       "\n",
       "    .dataframe tbody tr th {\n",
       "        vertical-align: top;\n",
       "    }\n",
       "\n",
       "    .dataframe thead th {\n",
       "        text-align: right;\n",
       "    }\n",
       "</style>\n",
       "<table border=\"1\" class=\"dataframe\">\n",
       "  <thead>\n",
       "    <tr style=\"text-align: right;\">\n",
       "      <th></th>\n",
       "      <th>post_id</th>\n",
       "      <th>lat</th>\n",
       "      <th>lon</th>\n",
       "      <th>neighborhood</th>\n",
       "    </tr>\n",
       "  </thead>\n",
       "  <tbody>\n",
       "    <tr>\n",
       "      <th>0</th>\n",
       "      <td>7043852389</td>\n",
       "      <td>40.706367</td>\n",
       "      <td>-74.015660</td>\n",
       "      <td>Battery Park City-Lower Manhattan</td>\n",
       "    </tr>\n",
       "    <tr>\n",
       "      <th>1</th>\n",
       "      <td>7043879172</td>\n",
       "      <td>40.751654</td>\n",
       "      <td>-73.999723</td>\n",
       "      <td>Hudson Yards-Chelsea-Flatiron-Union Square</td>\n",
       "    </tr>\n",
       "    <tr>\n",
       "      <th>2</th>\n",
       "      <td>7043882068</td>\n",
       "      <td>40.726958</td>\n",
       "      <td>-74.003445</td>\n",
       "      <td>SoHo-TriBeCa-Civic Center-Little Italy</td>\n",
       "    </tr>\n",
       "    <tr>\n",
       "      <th>3</th>\n",
       "      <td>7043897638</td>\n",
       "      <td>40.757100</td>\n",
       "      <td>-73.965700</td>\n",
       "      <td>Turtle Bay-East Midtown</td>\n",
       "    </tr>\n",
       "    <tr>\n",
       "      <th>4</th>\n",
       "      <td>7043924975</td>\n",
       "      <td>40.681221</td>\n",
       "      <td>-73.980463</td>\n",
       "      <td>DUMBO-Vinegar Hill-Downtown Brooklyn-Boerum Hill</td>\n",
       "    </tr>\n",
       "  </tbody>\n",
       "</table>\n",
       "</div>"
      ],
      "text/plain": [
       "      post_id        lat        lon  \\\n",
       "0  7043852389  40.706367 -74.015660   \n",
       "1  7043879172  40.751654 -73.999723   \n",
       "2  7043882068  40.726958 -74.003445   \n",
       "3  7043897638  40.757100 -73.965700   \n",
       "4  7043924975  40.681221 -73.980463   \n",
       "\n",
       "                                       neighborhood  \n",
       "0                 Battery Park City-Lower Manhattan  \n",
       "1        Hudson Yards-Chelsea-Flatiron-Union Square  \n",
       "2            SoHo-TriBeCa-Civic Center-Little Italy  \n",
       "3                           Turtle Bay-East Midtown  \n",
       "4  DUMBO-Vinegar Hill-Downtown Brooklyn-Boerum Hill  "
      ]
     },
     "execution_count": 19,
     "metadata": {},
     "output_type": "execute_result"
    }
   ],
   "source": [
    "neighborhood_df = neighborhood_df.set_index('post_id').join(boroughs).reset_index()\n",
    "neighborhood_df.head()"
   ]
  },
  {
   "cell_type": "code",
   "execution_count": 20,
   "metadata": {},
   "outputs": [
    {
     "data": {
      "text/html": [
       "<div>\n",
       "<style scoped>\n",
       "    .dataframe tbody tr th:only-of-type {\n",
       "        vertical-align: middle;\n",
       "    }\n",
       "\n",
       "    .dataframe tbody tr th {\n",
       "        vertical-align: top;\n",
       "    }\n",
       "\n",
       "    .dataframe thead th {\n",
       "        text-align: right;\n",
       "    }\n",
       "</style>\n",
       "<table border=\"1\" class=\"dataframe\">\n",
       "  <thead>\n",
       "    <tr style=\"text-align: right;\">\n",
       "      <th></th>\n",
       "      <th>ntaname</th>\n",
       "      <th>boro_name</th>\n",
       "    </tr>\n",
       "  </thead>\n",
       "  <tbody>\n",
       "    <tr>\n",
       "      <th>0</th>\n",
       "      <td>Borough Park</td>\n",
       "      <td>Brooklyn</td>\n",
       "    </tr>\n",
       "    <tr>\n",
       "      <th>1</th>\n",
       "      <td>Murray Hill</td>\n",
       "      <td>Queens</td>\n",
       "    </tr>\n",
       "    <tr>\n",
       "      <th>2</th>\n",
       "      <td>East Elmhurst</td>\n",
       "      <td>Queens</td>\n",
       "    </tr>\n",
       "    <tr>\n",
       "      <th>3</th>\n",
       "      <td>Hollis</td>\n",
       "      <td>Queens</td>\n",
       "    </tr>\n",
       "    <tr>\n",
       "      <th>4</th>\n",
       "      <td>Manhattanville</td>\n",
       "      <td>Manhattan</td>\n",
       "    </tr>\n",
       "  </tbody>\n",
       "</table>\n",
       "</div>"
      ],
      "text/plain": [
       "          ntaname  boro_name\n",
       "0    Borough Park   Brooklyn\n",
       "1     Murray Hill     Queens\n",
       "2   East Elmhurst     Queens\n",
       "3          Hollis     Queens\n",
       "4  Manhattanville  Manhattan"
      ]
     },
     "execution_count": 20,
     "metadata": {},
     "output_type": "execute_result"
    }
   ],
   "source": [
    "borough_neighborhood = pd.DataFrame(neighborhood_names[['ntaname','boro_name']]).reset_index(drop=True)\n",
    "borough_neighborhood.head()"
   ]
  },
  {
   "cell_type": "code",
   "execution_count": 21,
   "metadata": {},
   "outputs": [],
   "source": [
    "borough_dict = borough_neighborhood.set_index('ntaname').to_dict()['boro_name']"
   ]
  },
  {
   "cell_type": "code",
   "execution_count": 22,
   "metadata": {},
   "outputs": [
    {
     "data": {
      "text/html": [
       "<div>\n",
       "<style scoped>\n",
       "    .dataframe tbody tr th:only-of-type {\n",
       "        vertical-align: middle;\n",
       "    }\n",
       "\n",
       "    .dataframe tbody tr th {\n",
       "        vertical-align: top;\n",
       "    }\n",
       "\n",
       "    .dataframe thead th {\n",
       "        text-align: right;\n",
       "    }\n",
       "</style>\n",
       "<table border=\"1\" class=\"dataframe\">\n",
       "  <thead>\n",
       "    <tr style=\"text-align: right;\">\n",
       "      <th></th>\n",
       "      <th>post_id</th>\n",
       "      <th>lat</th>\n",
       "      <th>lon</th>\n",
       "      <th>neighborhood</th>\n",
       "      <th>borough</th>\n",
       "    </tr>\n",
       "  </thead>\n",
       "  <tbody>\n",
       "    <tr>\n",
       "      <th>0</th>\n",
       "      <td>7043852389</td>\n",
       "      <td>40.706367</td>\n",
       "      <td>-74.015660</td>\n",
       "      <td>Battery Park City-Lower Manhattan</td>\n",
       "      <td>Manhattan</td>\n",
       "    </tr>\n",
       "    <tr>\n",
       "      <th>1</th>\n",
       "      <td>7043879172</td>\n",
       "      <td>40.751654</td>\n",
       "      <td>-73.999723</td>\n",
       "      <td>Hudson Yards-Chelsea-Flatiron-Union Square</td>\n",
       "      <td>Manhattan</td>\n",
       "    </tr>\n",
       "    <tr>\n",
       "      <th>2</th>\n",
       "      <td>7043882068</td>\n",
       "      <td>40.726958</td>\n",
       "      <td>-74.003445</td>\n",
       "      <td>SoHo-TriBeCa-Civic Center-Little Italy</td>\n",
       "      <td>Manhattan</td>\n",
       "    </tr>\n",
       "    <tr>\n",
       "      <th>3</th>\n",
       "      <td>7043897638</td>\n",
       "      <td>40.757100</td>\n",
       "      <td>-73.965700</td>\n",
       "      <td>Turtle Bay-East Midtown</td>\n",
       "      <td>Manhattan</td>\n",
       "    </tr>\n",
       "    <tr>\n",
       "      <th>4</th>\n",
       "      <td>7043924975</td>\n",
       "      <td>40.681221</td>\n",
       "      <td>-73.980463</td>\n",
       "      <td>DUMBO-Vinegar Hill-Downtown Brooklyn-Boerum Hill</td>\n",
       "      <td>Brooklyn</td>\n",
       "    </tr>\n",
       "  </tbody>\n",
       "</table>\n",
       "</div>"
      ],
      "text/plain": [
       "      post_id        lat        lon  \\\n",
       "0  7043852389  40.706367 -74.015660   \n",
       "1  7043879172  40.751654 -73.999723   \n",
       "2  7043882068  40.726958 -74.003445   \n",
       "3  7043897638  40.757100 -73.965700   \n",
       "4  7043924975  40.681221 -73.980463   \n",
       "\n",
       "                                       neighborhood    borough  \n",
       "0                 Battery Park City-Lower Manhattan  Manhattan  \n",
       "1        Hudson Yards-Chelsea-Flatiron-Union Square  Manhattan  \n",
       "2            SoHo-TriBeCa-Civic Center-Little Italy  Manhattan  \n",
       "3                           Turtle Bay-East Midtown  Manhattan  \n",
       "4  DUMBO-Vinegar Hill-Downtown Brooklyn-Boerum Hill   Brooklyn  "
      ]
     },
     "execution_count": 22,
     "metadata": {},
     "output_type": "execute_result"
    }
   ],
   "source": [
    "neighborhood_df['borough'] = neighborhood_df['neighborhood'].apply(lambda n: borough_dict[n] if n in borough_dict else \"Other\")\n",
    "neighborhood_df.head()"
   ]
  },
  {
   "cell_type": "code",
   "execution_count": 23,
   "metadata": {},
   "outputs": [
    {
     "data": {
      "text/plain": [
       "Manhattan        568\n",
       "Brooklyn         545\n",
       "Queens           424\n",
       "Other            228\n",
       "Bronx             73\n",
       "Staten Island     56\n",
       "Name: borough, dtype: int64"
      ]
     },
     "execution_count": 23,
     "metadata": {},
     "output_type": "execute_result"
    }
   ],
   "source": [
    "neighborhood_df.borough.value_counts()"
   ]
  },
  {
   "cell_type": "markdown",
   "metadata": {},
   "source": [
    "Save out the final `DataFrame` to be picked back up in `craigslist_regression.ipynb`."
   ]
  },
  {
   "cell_type": "code",
   "execution_count": 24,
   "metadata": {},
   "outputs": [],
   "source": [
    "neighborhood_df.to_pickle(\"./pickles/neighborhood_df.pkl\")"
   ]
  },
  {
   "cell_type": "code",
   "execution_count": null,
   "metadata": {},
   "outputs": [],
   "source": []
  }
 ],
 "metadata": {
  "kernelspec": {
   "display_name": "Python 3",
   "language": "python",
   "name": "python3"
  },
  "language_info": {
   "codemirror_mode": {
    "name": "ipython",
    "version": 3
   },
   "file_extension": ".py",
   "mimetype": "text/x-python",
   "name": "python",
   "nbconvert_exporter": "python",
   "pygments_lexer": "ipython3",
   "version": "3.7.3"
  }
 },
 "nbformat": 4,
 "nbformat_minor": 4
}
